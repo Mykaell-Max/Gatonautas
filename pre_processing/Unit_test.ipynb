{
 "cells": [
  {
   "cell_type": "code",
   "execution_count": 1,
   "id": "7689ff5f",
   "metadata": {},
   "outputs": [
    {
     "name": "stderr",
     "output_type": "stream",
     "text": [
      "c:\\Users\\max00\\AppData\\Local\\Programs\\Python\\Python311\\Lib\\site-packages\\lightkurve\\prf\\__init__.py:7: UserWarning: Warning: the tpfmodel submodule is not available without oktopus installed, which requires a current version of autograd. See #1452 for details.\n",
      "  warnings.warn(\n"
     ]
    }
   ],
   "source": [
    "from extract_feats import extract_all_features"
   ]
  },
  {
   "cell_type": "code",
   "execution_count": 3,
   "id": "a1d85c14",
   "metadata": {},
   "outputs": [
    {
     "name": "stdout",
     "output_type": "stream",
     "text": [
      "Downloading light curve for HAT-P-7 from Kepler...\n"
     ]
    },
    {
     "name": "stderr",
     "output_type": "stream",
     "text": [
      "c:\\Users\\max00\\AppData\\Local\\Programs\\Python\\Python311\\Lib\\site-packages\\lightkurve\\search.py:420: LightkurveWarning: Warning: 69 files available to download. Only the first file has been downloaded. Please use `download_all()` or specify additional criteria (e.g. quarter, campaign, or sector) to limit your search.\n",
      "  warnings.warn(\n"
     ]
    },
    {
     "name": "stdout",
     "output_type": "stream",
     "text": [
      "Downloaded 38271 data points.\n",
      "Saved light curve data to: C:\\Users\\max00\\OneDrive\\Área de Trabalho\\Gatonautas\\data\\lightkurve\\HAT_P_7_20251005.csv\n",
      "Detrend version 2\n",
      "Starting period/duration refinement...\n",
      "\n",
      "=== Extracted features (ordered) ===\n",
      "period_days: 2.204738629929311\n",
      "t0: 231.59544873009918\n",
      "duration_days: 0.14200000000000002\n",
      "duration_hours: 3.4080000000000004\n",
      "scale_mean: -0.25867077658732734\n",
      "scale_std: 1.0\n",
      "scale_skewness: -3.4564143112458616\n",
      "scale_kurtosis: 10.376542400908075\n",
      "scale_outlier_resistance: 0.0\n",
      "local_noise: 0.00016437076652267162\n",
      "depth_stability: 0.010530334576441872\n",
      "acf_lag_1h: 0.7314375423667493\n",
      "acf_lag_3h: 0.047453803130225396\n",
      "acf_lag_6h: -0.0687751138762978\n",
      "acf_lag_12h: -0.06090436536560986\n",
      "acf_lag_24h: -0.06381560164784131\n",
      "cadence_hours: 0.016346198797691613\n",
      "depth_mean_per_transit: 0.007001435941894674\n",
      "depth_std_per_transit: 7.876044884549984e-05\n",
      "npts_transit_median: 833.0\n",
      "cdpp_3h: 511.6117936335068\n",
      "cdpp_6h: 901.123138631406\n",
      "cdpp_12h: 1305.7418839119455\n",
      "SES_mean: 12.401023350408387\n",
      "SES_std: 0.13950140704384953\n",
      "MES: 42.961122999280356\n",
      "snr_global: 12.401023350408387\n",
      "snr_per_transit_mean: 12.401023350408387\n",
      "snr_per_transit_std: 0.13950140704384953\n",
      "resid_rms_global: 0.0015328889793607792\n",
      "vshape_metric: 0.9410441826496718\n",
      "secondary_depth: 0.0008186105965782842\n",
      "skewness_flux: -3.4564143112458616\n",
      "kurtosis_flux: 10.376542400908075\n",
      "outlier_resistance: 0.0\n",
      "planet_radius_rearth: 17.819607083728588\n",
      "planet_radius_rjup: 1.6251612326590237\n"
     ]
    }
   ],
   "source": [
    "data = extract_all_features(\"HAT-P-7\", \"Kepler\")"
   ]
  },
  {
   "cell_type": "code",
   "execution_count": null,
   "id": "7084959e",
   "metadata": {},
   "outputs": [],
   "source": []
  },
  {
   "cell_type": "code",
   "execution_count": null,
   "id": "060c36f7",
   "metadata": {},
   "outputs": [],
   "source": []
  }
 ],
 "metadata": {
  "kernelspec": {
   "display_name": "Python 3",
   "language": "python",
   "name": "python3"
  },
  "language_info": {
   "codemirror_mode": {
    "name": "ipython",
    "version": 3
   },
   "file_extension": ".py",
   "mimetype": "text/x-python",
   "name": "python",
   "nbconvert_exporter": "python",
   "pygments_lexer": "ipython3",
   "version": "3.11.5"
  }
 },
 "nbformat": 4,
 "nbformat_minor": 5
}
