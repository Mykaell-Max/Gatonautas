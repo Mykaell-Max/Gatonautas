{
 "cells": [
  {
   "cell_type": "code",
   "execution_count": null,
   "id": "7689ff5f",
   "metadata": {},
   "outputs": [],
   "source": [
    "from pipeline import extract_all_features_v2"
   ]
  },
  {
   "cell_type": "code",
   "execution_count": null,
   "id": "a1d85c14",
   "metadata": {},
   "outputs": [],
   "source": [
    "extract_all_features_v2(\"HAT-P-7\")"
   ]
  }
 ],
 "metadata": {
  "kernelspec": {
   "display_name": "Python 3",
   "language": "python",
   "name": "python3"
  },
  "language_info": {
   "codemirror_mode": {
    "name": "ipython",
    "version": 3
   },
   "file_extension": ".py",
   "mimetype": "text/x-python",
   "name": "python",
   "nbconvert_exporter": "python",
   "pygments_lexer": "ipython3",
   "version": "3.11.5"
  }
 },
 "nbformat": 4,
 "nbformat_minor": 5
}
